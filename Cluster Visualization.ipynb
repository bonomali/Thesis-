{
 "cells": [
  {
   "cell_type": "markdown",
   "metadata": {},
   "source": [
    "### Maternity Clustering Results Visualization\n",
    "\n",
    "We will visualize the results of the kmeans clustering algorithms performed on our condensed approximate maternity dataframe. "
   ]
  },
  {
   "cell_type": "code",
   "execution_count": 1,
   "metadata": {},
   "outputs": [],
   "source": [
    "import pandas as pd"
   ]
  },
  {
   "cell_type": "code",
   "execution_count": null,
   "metadata": {
    "scrolled": true
   },
   "outputs": [],
   "source": [
    "import pandas as pd\n",
    "matSVD_data = pd.read_csv(\"C:/Users/rachh/Downloads/maternitySVD.csv\")\n",
    "matNMF_data = pd.read_csv(\"C:/Users/rachh/Downloads/maternityNMF.csv\")"
   ]
  },
  {
   "cell_type": "code",
   "execution_count": 2,
   "metadata": {},
   "outputs": [
    {
     "data": {
      "text/html": [
       "<div>\n",
       "<style scoped>\n",
       "    .dataframe tbody tr th:only-of-type {\n",
       "        vertical-align: middle;\n",
       "    }\n",
       "\n",
       "    .dataframe tbody tr th {\n",
       "        vertical-align: top;\n",
       "    }\n",
       "\n",
       "    .dataframe thead th {\n",
       "        text-align: right;\n",
       "    }\n",
       "</style>\n",
       "<table border=\"1\" class=\"dataframe\">\n",
       "  <thead>\n",
       "    <tr style=\"text-align: right;\">\n",
       "      <th></th>\n",
       "      <th>First Attribute</th>\n",
       "      <th>Second Attribute</th>\n",
       "      <th>Third Attribute</th>\n",
       "      <th>kmeans</th>\n",
       "    </tr>\n",
       "  </thead>\n",
       "  <tbody>\n",
       "    <tr>\n",
       "      <th>0</th>\n",
       "      <td>0</td>\n",
       "      <td>8.432911e+09</td>\n",
       "      <td>8.128278e+08</td>\n",
       "      <td>1</td>\n",
       "    </tr>\n",
       "    <tr>\n",
       "      <th>1</th>\n",
       "      <td>1</td>\n",
       "      <td>8.432911e+09</td>\n",
       "      <td>8.128278e+08</td>\n",
       "      <td>1</td>\n",
       "    </tr>\n",
       "    <tr>\n",
       "      <th>2</th>\n",
       "      <td>2</td>\n",
       "      <td>8.432911e+09</td>\n",
       "      <td>8.128278e+08</td>\n",
       "      <td>1</td>\n",
       "    </tr>\n",
       "    <tr>\n",
       "      <th>3</th>\n",
       "      <td>3</td>\n",
       "      <td>8.432911e+09</td>\n",
       "      <td>8.128278e+08</td>\n",
       "      <td>1</td>\n",
       "    </tr>\n",
       "    <tr>\n",
       "      <th>4</th>\n",
       "      <td>4</td>\n",
       "      <td>8.432911e+09</td>\n",
       "      <td>8.128278e+08</td>\n",
       "      <td>1</td>\n",
       "    </tr>\n",
       "  </tbody>\n",
       "</table>\n",
       "</div>"
      ],
      "text/plain": [
       "   First Attribute  Second Attribute  Third Attribute  kmeans\n",
       "0                0      8.432911e+09     8.128278e+08       1\n",
       "1                1      8.432911e+09     8.128278e+08       1\n",
       "2                2      8.432911e+09     8.128278e+08       1\n",
       "3                3      8.432911e+09     8.128278e+08       1\n",
       "4                4      8.432911e+09     8.128278e+08       1"
      ]
     },
     "execution_count": 2,
     "metadata": {},
     "output_type": "execute_result"
    }
   ],
   "source": [
    "matSVD_data.columns = ['First Attribute', 'Second Attribute', 'Third Attribute','kmeans']\n",
    "matSVD_data.head()"
   ]
  },
  {
   "cell_type": "code",
   "execution_count": 18,
   "metadata": {},
   "outputs": [
    {
     "data": {
      "text/html": [
       "<div>\n",
       "<style scoped>\n",
       "    .dataframe tbody tr th:only-of-type {\n",
       "        vertical-align: middle;\n",
       "    }\n",
       "\n",
       "    .dataframe tbody tr th {\n",
       "        vertical-align: top;\n",
       "    }\n",
       "\n",
       "    .dataframe thead th {\n",
       "        text-align: right;\n",
       "    }\n",
       "</style>\n",
       "<table border=\"1\" class=\"dataframe\">\n",
       "  <thead>\n",
       "    <tr style=\"text-align: right;\">\n",
       "      <th></th>\n",
       "      <th>First Attribute</th>\n",
       "      <th>Second Attribute</th>\n",
       "      <th>Third Attribute</th>\n",
       "      <th>Fourth Attribute</th>\n",
       "      <th>Fifth Attribute</th>\n",
       "      <th>Sixth Attribute</th>\n",
       "      <th>Seventh Attribute</th>\n",
       "      <th>Eigth Attribute</th>\n",
       "      <th>Ninth Attribute</th>\n",
       "      <th>Tenth Attribute</th>\n",
       "      <th>...</th>\n",
       "      <th>Seventeenth Attribute</th>\n",
       "      <th>Eighteenth Attribute</th>\n",
       "      <th>Nineteenth Attribute</th>\n",
       "      <th>Twentieth Attribute</th>\n",
       "      <th>Twenty First Attribute</th>\n",
       "      <th>Twenty Second Attribute</th>\n",
       "      <th>Twenty Third Attribute</th>\n",
       "      <th>Twenty Fourth Attribute</th>\n",
       "      <th>Twenty Fifth Attribute</th>\n",
       "      <th>kmeans</th>\n",
       "    </tr>\n",
       "  </thead>\n",
       "  <tbody>\n",
       "    <tr>\n",
       "      <th>0</th>\n",
       "      <td>0</td>\n",
       "      <td>5.590254e+09</td>\n",
       "      <td>5.592113e+09</td>\n",
       "      <td>0.079205</td>\n",
       "      <td>15.994334</td>\n",
       "      <td>3.020709</td>\n",
       "      <td>23.100505</td>\n",
       "      <td>1.93097</td>\n",
       "      <td>2.931576</td>\n",
       "      <td>96.795777</td>\n",
       "      <td>...</td>\n",
       "      <td>233.238688</td>\n",
       "      <td>4.315071</td>\n",
       "      <td>36.117887</td>\n",
       "      <td>1.592941</td>\n",
       "      <td>16.456849</td>\n",
       "      <td>131.333017</td>\n",
       "      <td>34.462123</td>\n",
       "      <td>10.736579</td>\n",
       "      <td>0.000005</td>\n",
       "      <td>0</td>\n",
       "    </tr>\n",
       "    <tr>\n",
       "      <th>1</th>\n",
       "      <td>1</td>\n",
       "      <td>5.590254e+09</td>\n",
       "      <td>5.592113e+09</td>\n",
       "      <td>0.079205</td>\n",
       "      <td>15.994334</td>\n",
       "      <td>3.020709</td>\n",
       "      <td>23.100505</td>\n",
       "      <td>1.93097</td>\n",
       "      <td>2.931576</td>\n",
       "      <td>96.795777</td>\n",
       "      <td>...</td>\n",
       "      <td>233.238688</td>\n",
       "      <td>4.315071</td>\n",
       "      <td>36.117887</td>\n",
       "      <td>1.592941</td>\n",
       "      <td>16.456849</td>\n",
       "      <td>131.333017</td>\n",
       "      <td>34.462123</td>\n",
       "      <td>10.736579</td>\n",
       "      <td>0.000005</td>\n",
       "      <td>0</td>\n",
       "    </tr>\n",
       "    <tr>\n",
       "      <th>2</th>\n",
       "      <td>2</td>\n",
       "      <td>5.590254e+09</td>\n",
       "      <td>5.592113e+09</td>\n",
       "      <td>0.079205</td>\n",
       "      <td>15.994334</td>\n",
       "      <td>3.020709</td>\n",
       "      <td>23.100505</td>\n",
       "      <td>1.93097</td>\n",
       "      <td>2.931576</td>\n",
       "      <td>96.795777</td>\n",
       "      <td>...</td>\n",
       "      <td>233.238688</td>\n",
       "      <td>4.315071</td>\n",
       "      <td>36.117887</td>\n",
       "      <td>1.592941</td>\n",
       "      <td>16.456849</td>\n",
       "      <td>131.333017</td>\n",
       "      <td>34.462123</td>\n",
       "      <td>10.736579</td>\n",
       "      <td>0.000005</td>\n",
       "      <td>0</td>\n",
       "    </tr>\n",
       "    <tr>\n",
       "      <th>3</th>\n",
       "      <td>3</td>\n",
       "      <td>5.590254e+09</td>\n",
       "      <td>5.592113e+09</td>\n",
       "      <td>0.079205</td>\n",
       "      <td>15.994334</td>\n",
       "      <td>3.020709</td>\n",
       "      <td>23.100505</td>\n",
       "      <td>1.93097</td>\n",
       "      <td>2.931576</td>\n",
       "      <td>96.795777</td>\n",
       "      <td>...</td>\n",
       "      <td>233.238688</td>\n",
       "      <td>4.315071</td>\n",
       "      <td>36.117887</td>\n",
       "      <td>1.592941</td>\n",
       "      <td>16.456849</td>\n",
       "      <td>131.333017</td>\n",
       "      <td>34.462123</td>\n",
       "      <td>10.736579</td>\n",
       "      <td>0.000005</td>\n",
       "      <td>0</td>\n",
       "    </tr>\n",
       "    <tr>\n",
       "      <th>4</th>\n",
       "      <td>4</td>\n",
       "      <td>5.590254e+09</td>\n",
       "      <td>5.592113e+09</td>\n",
       "      <td>0.079205</td>\n",
       "      <td>15.994334</td>\n",
       "      <td>3.020709</td>\n",
       "      <td>23.100505</td>\n",
       "      <td>1.93097</td>\n",
       "      <td>2.931576</td>\n",
       "      <td>96.795777</td>\n",
       "      <td>...</td>\n",
       "      <td>233.238688</td>\n",
       "      <td>4.315071</td>\n",
       "      <td>36.117887</td>\n",
       "      <td>1.592941</td>\n",
       "      <td>16.456849</td>\n",
       "      <td>131.333017</td>\n",
       "      <td>34.462123</td>\n",
       "      <td>10.736579</td>\n",
       "      <td>0.000005</td>\n",
       "      <td>0</td>\n",
       "    </tr>\n",
       "  </tbody>\n",
       "</table>\n",
       "<p>5 rows × 26 columns</p>\n",
       "</div>"
      ],
      "text/plain": [
       "   First Attribute  Second Attribute  Third Attribute  Fourth Attribute  \\\n",
       "0                0      5.590254e+09     5.592113e+09          0.079205   \n",
       "1                1      5.590254e+09     5.592113e+09          0.079205   \n",
       "2                2      5.590254e+09     5.592113e+09          0.079205   \n",
       "3                3      5.590254e+09     5.592113e+09          0.079205   \n",
       "4                4      5.590254e+09     5.592113e+09          0.079205   \n",
       "\n",
       "   Fifth Attribute  Sixth Attribute  Seventh Attribute  Eigth Attribute  \\\n",
       "0        15.994334         3.020709          23.100505          1.93097   \n",
       "1        15.994334         3.020709          23.100505          1.93097   \n",
       "2        15.994334         3.020709          23.100505          1.93097   \n",
       "3        15.994334         3.020709          23.100505          1.93097   \n",
       "4        15.994334         3.020709          23.100505          1.93097   \n",
       "\n",
       "   Ninth Attribute  Tenth Attribute   ...    Seventeenth Attribute  \\\n",
       "0         2.931576        96.795777   ...               233.238688   \n",
       "1         2.931576        96.795777   ...               233.238688   \n",
       "2         2.931576        96.795777   ...               233.238688   \n",
       "3         2.931576        96.795777   ...               233.238688   \n",
       "4         2.931576        96.795777   ...               233.238688   \n",
       "\n",
       "   Eighteenth Attribute  Nineteenth Attribute  Twentieth Attribute  \\\n",
       "0              4.315071             36.117887             1.592941   \n",
       "1              4.315071             36.117887             1.592941   \n",
       "2              4.315071             36.117887             1.592941   \n",
       "3              4.315071             36.117887             1.592941   \n",
       "4              4.315071             36.117887             1.592941   \n",
       "\n",
       "   Twenty First Attribute  Twenty Second Attribute  Twenty Third Attribute  \\\n",
       "0               16.456849               131.333017               34.462123   \n",
       "1               16.456849               131.333017               34.462123   \n",
       "2               16.456849               131.333017               34.462123   \n",
       "3               16.456849               131.333017               34.462123   \n",
       "4               16.456849               131.333017               34.462123   \n",
       "\n",
       "   Twenty Fourth Attribute  Twenty Fifth Attribute  kmeans  \n",
       "0                10.736579                0.000005       0  \n",
       "1                10.736579                0.000005       0  \n",
       "2                10.736579                0.000005       0  \n",
       "3                10.736579                0.000005       0  \n",
       "4                10.736579                0.000005       0  \n",
       "\n",
       "[5 rows x 26 columns]"
      ]
     },
     "execution_count": 18,
     "metadata": {},
     "output_type": "execute_result"
    }
   ],
   "source": [
    "matNMF_data.columns = ['First Attribute', 'Second Attribute', 'Third Attribute', 'Fourth Attribute', 'Fifth Attribute', \n",
    "                      'Sixth Attribute', 'Seventh Attribute', 'Eigth Attribute', 'Ninth Attribute', 'Tenth Attribute',\n",
    "                      'Eleventh Attribute', 'Twelvth Attribute', 'Thirteenth Attribute', 'Fourteenth Attribute',\n",
    "                      'Fifteenth Attribute', 'Sixteenth Attribute', 'Seventeenth Attribute', 'Eighteenth Attribute',\n",
    "                      'Nineteenth Attribute', 'Twentieth Attribute', 'Twenty First Attribute','Twenty Second Attribute',\n",
    "                      'Twenty Third Attribute','Twenty Fourth Attribute','Twenty Fifth Attribute','kmeans']\n",
    "matNMF_data.head()"
   ]
  },
  {
   "cell_type": "code",
   "execution_count": 19,
   "metadata": {},
   "outputs": [
    {
     "data": {
      "text/html": [
       "<div>\n",
       "<style scoped>\n",
       "    .dataframe tbody tr th:only-of-type {\n",
       "        vertical-align: middle;\n",
       "    }\n",
       "\n",
       "    .dataframe tbody tr th {\n",
       "        vertical-align: top;\n",
       "    }\n",
       "\n",
       "    .dataframe thead th {\n",
       "        text-align: right;\n",
       "    }\n",
       "</style>\n",
       "<table border=\"1\" class=\"dataframe\">\n",
       "  <thead>\n",
       "    <tr style=\"text-align: right;\">\n",
       "      <th></th>\n",
       "      <th>First Attribute</th>\n",
       "      <th>Second Attribute</th>\n",
       "      <th>Third Attribute</th>\n",
       "      <th>Fourth Attribute</th>\n",
       "      <th>kmeans</th>\n",
       "    </tr>\n",
       "  </thead>\n",
       "  <tbody>\n",
       "    <tr>\n",
       "      <th>0</th>\n",
       "      <td>0</td>\n",
       "      <td>5.590254e+09</td>\n",
       "      <td>5.592113e+09</td>\n",
       "      <td>0.079205</td>\n",
       "      <td>0</td>\n",
       "    </tr>\n",
       "    <tr>\n",
       "      <th>1</th>\n",
       "      <td>1</td>\n",
       "      <td>5.590254e+09</td>\n",
       "      <td>5.592113e+09</td>\n",
       "      <td>0.079205</td>\n",
       "      <td>0</td>\n",
       "    </tr>\n",
       "    <tr>\n",
       "      <th>2</th>\n",
       "      <td>2</td>\n",
       "      <td>5.590254e+09</td>\n",
       "      <td>5.592113e+09</td>\n",
       "      <td>0.079205</td>\n",
       "      <td>0</td>\n",
       "    </tr>\n",
       "    <tr>\n",
       "      <th>3</th>\n",
       "      <td>3</td>\n",
       "      <td>5.590254e+09</td>\n",
       "      <td>5.592113e+09</td>\n",
       "      <td>0.079205</td>\n",
       "      <td>0</td>\n",
       "    </tr>\n",
       "    <tr>\n",
       "      <th>4</th>\n",
       "      <td>4</td>\n",
       "      <td>5.590254e+09</td>\n",
       "      <td>5.592113e+09</td>\n",
       "      <td>0.079205</td>\n",
       "      <td>0</td>\n",
       "    </tr>\n",
       "  </tbody>\n",
       "</table>\n",
       "</div>"
      ],
      "text/plain": [
       "   First Attribute  Second Attribute  Third Attribute  Fourth Attribute  \\\n",
       "0                0      5.590254e+09     5.592113e+09          0.079205   \n",
       "1                1      5.590254e+09     5.592113e+09          0.079205   \n",
       "2                2      5.590254e+09     5.592113e+09          0.079205   \n",
       "3                3      5.590254e+09     5.592113e+09          0.079205   \n",
       "4                4      5.590254e+09     5.592113e+09          0.079205   \n",
       "\n",
       "   kmeans  \n",
       "0       0  \n",
       "1       0  \n",
       "2       0  \n",
       "3       0  \n",
       "4       0  "
      ]
     },
     "execution_count": 19,
     "metadata": {},
     "output_type": "execute_result"
    }
   ],
   "source": [
    "matNMF_data = matNMF_data[['First Attribute','Second Attribute', 'Third Attribute', 'Fourth Attribute','kmeans']]\n",
    "matNMF_data.head()"
   ]
  },
  {
   "cell_type": "code",
   "execution_count": 2,
   "metadata": {},
   "outputs": [],
   "source": [
    "import matplotlib.pyplot as plt\n",
    "from pandas.plotting import parallel_coordinates \n",
    "import seaborn as sns "
   ]
  },
  {
   "cell_type": "code",
   "execution_count": 26,
   "metadata": {},
   "outputs": [],
   "source": [
    "condensed_matSVD_data = matSVD_data.head(10000)\n",
    "condensed_matNMF_data = matNMF_data.head(10000)"
   ]
  },
  {
   "cell_type": "code",
   "execution_count": 27,
   "metadata": {
    "scrolled": true
   },
   "outputs": [
    {
     "data": {
      "image/png": "[encoded data removed]",
      "text/plain": [
       "<Figure size 432x288 with 1 Axes>"
      ]
     },
     "metadata": {
      "needs_background": "light"
     },
     "output_type": "display_data"
    }
   ],
   "source": [
    "# Make the plot for SVD data \n",
    "parallel_coordinates(condensed_matSVD_data, 'kmeans', colormap=plt.get_cmap(\"Set2\"))\n",
    "plt.show()"
   ]
  },
  {
   "cell_type": "code",
   "execution_count": 28,
   "metadata": {
    "scrolled": true
   },
   "outputs": [
    {
     "data": {
      "image/png": "[encoded data removed]",
      "text/plain": [
       "<Figure size 432x288 with 1 Axes>"
      ]
     },
     "metadata": {
      "needs_background": "light"
     },
     "output_type": "display_data"
    }
   ],
   "source": [
    "# Make the plot for NMF data \n",
    "parallel_coordinates(condensed_matNMF_data,'kmeans', colormap= plt.get_cmap(\"Set2\"))\n",
    "plt.show()"
   ]
  },
  {
   "cell_type": "markdown",
   "metadata": {},
   "source": [
    "oh what the FUCK, everything past the third feature is 0. Oh that's bc I ran nmf. "
   ]
  },
  {
   "cell_type": "code",
   "execution_count": 23,
   "metadata": {},
   "outputs": [],
   "source": [
    "import plotly\n",
    "import plotly.plotly as py\n",
    "import plotly.graph_objs as go "
   ]
  },
  {
   "cell_type": "code",
   "execution_count": 29,
   "metadata": {},
   "outputs": [],
   "source": [
    "plotly.tools.set_credentials_file(username='rachel_harvill', api_key='QGLYwKR1rHxWXKe0fiGu')"
   ]
  },
  {
   "cell_type": "code",
   "execution_count": 18,
   "metadata": {},
   "outputs": [
    {
     "data": {
      "text/plain": [
       "Unnamed: 0      int64\n",
       "0             float64\n",
       "1             float64\n",
       "kmeans          int64\n",
       "dtype: object"
      ]
     },
     "execution_count": 18,
     "metadata": {},
     "output_type": "execute_result"
    }
   ],
   "source": [
    "condensed_mat_data.dtypes"
   ]
  },
  {
   "cell_type": "code",
   "execution_count": 8,
   "metadata": {},
   "outputs": [
    {
     "name": "stdout",
     "output_type": "stream",
     "text": [
      "first_max=  11904879795.250679 second_max=  886760135.131408 third_max 42.0\n"
     ]
    },
    {
     "name": "stderr",
     "output_type": "stream",
     "text": [
      "C:\\Users\\rachh\\Anaconda\\lib\\site-packages\\IPython\\core\\display.py:689: UserWarning:\n",
      "\n",
      "Consider using IPython.display.IFrame instead\n",
      "\n"
     ]
    },
    {
     "data": {
      "text/html": [
       "<iframe id=\"igraph\" scrolling=\"no\" style=\"border:none;\" seamless=\"seamless\" src=\"https://plot.ly/~rachel_harvill/2.embed\" height=\"525px\" width=\"100%\"></iframe>"
      ],
      "text/plain": [
       "<plotly.tools.PlotlyDisplay object>"
      ]
     },
     "execution_count": 8,
     "metadata": {},
     "output_type": "execute_result"
    }
   ],
   "source": [
    "df = condensed_mat_data\n",
    "first_max = df.loc[df['0'].idxmax()]['0']\n",
    "second_max = df.loc[df['1'].idxmax()]['1']\n",
    "third_max = df.loc[df['1'].idxmax()]['Unnamed: 0']\n",
    "print('first_max= ', first_max, 'second_max= ', second_max, 'third_max', third_max)\n",
    "data = [\n",
    "    go.Parcoords(\n",
    "        line = dict(color = df['kmeans'],colorscale = 'Jet',\n",
    "                   showscale = True,\n",
    "                   reversescale = True,\n",
    "                   cmin = 0,\n",
    "                   cmax = 1),\n",
    "        dimensions = list([\n",
    "            dict(range = [0,first_max],\n",
    "                constraintrange = [4,8],\n",
    "                label = 'Linear Combo 1', values = df['0']),\n",
    "            dict(range = [0,second_max],\n",
    "                label = 'Linear Combo 2', values = df['1']),\n",
    "            dict(range = [0,third_max],\n",
    "                label = 'Linear Combo 3', values = df['Unnamed: 0'])\n",
    "        ])\n",
    "    )\n",
    "]\n",
    "\n",
    "layout = go.Layout(\n",
    "    plot_bgcolor = '#ffffff',\n",
    "    paper_bgcolor = '#E5E5E5'\n",
    ")\n",
    "\n",
    "fig = go.Figure(data = data, layout = layout)\n",
    "py.iplot(fig, filename = 'parcoords-advanced')"
   ]
  },
  {
   "cell_type": "code",
   "execution_count": 37,
   "metadata": {},
   "outputs": [
    {
     "name": "stdout",
     "output_type": "stream",
     "text": [
      "first_max=  9999.0 second_max=  7421444648.999594 third_max 7421980204.17141 fourth_max 0.2194515172542678\n"
     ]
    },
    {
     "name": "stderr",
     "output_type": "stream",
     "text": [
      "C:\\Users\\rachh\\Anaconda\\lib\\site-packages\\IPython\\core\\display.py:689: UserWarning:\n",
      "\n",
      "Consider using IPython.display.IFrame instead\n",
      "\n"
     ]
    },
    {
     "data": {
      "text/html": [
       "<iframe id=\"igraph\" scrolling=\"no\" style=\"border:none;\" seamless=\"seamless\" src=\"https://plot.ly/~rachel_harvill/2.embed\" height=\"525px\" width=\"100%\"></iframe>"
      ],
      "text/plain": [
       "<plotly.tools.PlotlyDisplay object>"
      ]
     },
     "execution_count": 37,
     "metadata": {},
     "output_type": "execute_result"
    }
   ],
   "source": [
    "df = condensed_matNMF_data\n",
    "first_max = df.loc[df['First Attribute'].idxmax()]['First Attribute']\n",
    "second_max = df.loc[df['Second Attribute'].idxmax()]['Second Attribute']\n",
    "third_max = df.loc[df['Third Attribute'].idxmax()]['Third Attribute']\n",
    "fourth_max = df.loc[df['Fourth Attribute'].idxmax()]['Fourth Attribute']\n",
    "print('first_max= ', first_max, 'second_max= ', second_max, 'third_max', third_max,'fourth_max', fourth_max)\n",
    "data = [\n",
    "    go.Parcoords(\n",
    "        line = dict(color = df['kmeans'],colorscale = 'Jet',\n",
    "                   showscale = True,\n",
    "                   reversescale = True,\n",
    "                   cmin = 0,\n",
    "                   cmax = 1),\n",
    "        dimensions = list([\n",
    "            dict(range = [0,first_max],\n",
    "                constraintrange = [4,8],\n",
    "                label = 'Linear Combo 1', values = df['First Attribute']),\n",
    "            dict(range = [0,second_max],\n",
    "                label = 'Linear Combo 2', values = df['Second Attribute']),\n",
    "            dict(range = [0,third_max],\n",
    "                label = 'Linear Combo 3', values = df['Third Attribute']),\n",
    "            dict(range = [0,fourth_max],\n",
    "                label = 'Linear Combo 3', values = df['Fourth Attribute'])\n",
    "        ])\n",
    "    )\n",
    "]\n",
    "\n",
    "layout = go.Layout(\n",
    "    plot_bgcolor = '#ffffff',\n",
    "    paper_bgcolor = '#E5E5E5'\n",
    ")\n",
    "\n",
    "fig = go.Figure(data = data, layout = layout)\n",
    "py.iplot(fig, filename = 'parcoords-advanced')"
   ]
  },
  {
   "cell_type": "markdown",
   "metadata": {},
   "source": [
    "### Aggregated Heatmap\n",
    "\n",
    "1. Split data into groups based on k-means cluster value (AKA which group they were grouped into)\n",
    "2. Apply aggregation function (sum or average, we will use both to see difference in results) to all dimensions within that group\n",
    "3. Plot aggregated values in heatmap"
   ]
  },
  {
   "cell_type": "code",
   "execution_count": 30,
   "metadata": {},
   "outputs": [],
   "source": [
    "#split data into clustered groups\n",
    "groupedSVD_data = condensed_matSVD_data.groupby('kmeans')\n",
    "groupedNMF_data = condensed_matNMF_data.groupby('kmeans')\n",
    "#compute the sum for every column in the group \n",
    "sumsSVD = groupedSVD_data.mean()\n",
    "sumsNMF = groupedNMF_data.mean()"
   ]
  },
  {
   "cell_type": "code",
   "execution_count": 31,
   "metadata": {},
   "outputs": [
    {
     "data": {
      "text/html": [
       "<div>\n",
       "<style scoped>\n",
       "    .dataframe tbody tr th:only-of-type {\n",
       "        vertical-align: middle;\n",
       "    }\n",
       "\n",
       "    .dataframe tbody tr th {\n",
       "        vertical-align: top;\n",
       "    }\n",
       "\n",
       "    .dataframe thead th {\n",
       "        text-align: right;\n",
       "    }\n",
       "</style>\n",
       "<table border=\"1\" class=\"dataframe\">\n",
       "  <thead>\n",
       "    <tr style=\"text-align: right;\">\n",
       "      <th></th>\n",
       "      <th>Unnamed: 0</th>\n",
       "      <th>0</th>\n",
       "      <th>1</th>\n",
       "    </tr>\n",
       "    <tr>\n",
       "      <th>kmeans</th>\n",
       "      <th></th>\n",
       "      <th></th>\n",
       "      <th></th>\n",
       "    </tr>\n",
       "  </thead>\n",
       "  <tbody>\n",
       "    <tr>\n",
       "      <th>0</th>\n",
       "      <td>4542.451350</td>\n",
       "      <td>1.033761e+10</td>\n",
       "      <td>-2.048955e+08</td>\n",
       "    </tr>\n",
       "    <tr>\n",
       "      <th>1</th>\n",
       "      <td>5562.421558</td>\n",
       "      <td>7.044432e+09</td>\n",
       "      <td>9.976636e+08</td>\n",
       "    </tr>\n",
       "  </tbody>\n",
       "</table>\n",
       "</div>"
      ],
      "text/plain": [
       "         Unnamed: 0             0             1\n",
       "kmeans                                         \n",
       "0       4542.451350  1.033761e+10 -2.048955e+08\n",
       "1       5562.421558  7.044432e+09  9.976636e+08"
      ]
     },
     "execution_count": 31,
     "metadata": {},
     "output_type": "execute_result"
    }
   ],
   "source": [
    "sumsSVD.head()"
   ]
  },
  {
   "cell_type": "code",
   "execution_count": 32,
   "metadata": {},
   "outputs": [
    {
     "data": {
      "text/html": [
       "<div>\n",
       "<style scoped>\n",
       "    .dataframe tbody tr th:only-of-type {\n",
       "        vertical-align: middle;\n",
       "    }\n",
       "\n",
       "    .dataframe tbody tr th {\n",
       "        vertical-align: top;\n",
       "    }\n",
       "\n",
       "    .dataframe thead th {\n",
       "        text-align: right;\n",
       "    }\n",
       "</style>\n",
       "<table border=\"1\" class=\"dataframe\">\n",
       "  <thead>\n",
       "    <tr style=\"text-align: right;\">\n",
       "      <th></th>\n",
       "      <th>First Attribute</th>\n",
       "      <th>Second Attribute</th>\n",
       "      <th>Third Attribute</th>\n",
       "      <th>Fourth Attribute</th>\n",
       "    </tr>\n",
       "    <tr>\n",
       "      <th>kmeans</th>\n",
       "      <th></th>\n",
       "      <th></th>\n",
       "      <th></th>\n",
       "      <th></th>\n",
       "    </tr>\n",
       "  </thead>\n",
       "  <tbody>\n",
       "    <tr>\n",
       "      <th>0</th>\n",
       "      <td>5423.126756</td>\n",
       "      <td>4.961488e+09</td>\n",
       "      <td>4.963055e+09</td>\n",
       "      <td>0.068086</td>\n",
       "    </tr>\n",
       "    <tr>\n",
       "      <th>1</th>\n",
       "      <td>4405.282556</td>\n",
       "      <td>6.761554e+09</td>\n",
       "      <td>6.763037e+09</td>\n",
       "      <td>0.075558</td>\n",
       "    </tr>\n",
       "  </tbody>\n",
       "</table>\n",
       "</div>"
      ],
      "text/plain": [
       "        First Attribute  Second Attribute  Third Attribute  Fourth Attribute\n",
       "kmeans                                                                      \n",
       "0           5423.126756      4.961488e+09     4.963055e+09          0.068086\n",
       "1           4405.282556      6.761554e+09     6.763037e+09          0.075558"
      ]
     },
     "execution_count": 32,
     "metadata": {},
     "output_type": "execute_result"
    }
   ],
   "source": [
    "sumsNMF.head()"
   ]
  },
  {
   "cell_type": "code",
   "execution_count": 33,
   "metadata": {},
   "outputs": [
    {
     "data": {
      "application/vnd.plotly.v1+json": {
       "config": {
        "linkText": "Export to plot.ly",
        "plotlyServerURL": "https://plot.ly",
        "showLink": false
       },
       "data": [
        {
         "colorscale": "Viridis",
         "type": "heatmap",
         "uid": "2447245c-af72-4a95-ab46-259fc65f3688",
         "x": [
          "First Attribute",
          "Second Attribute",
          "Third Attribute"
         ],
         "y": [
          "Persona 1",
          "Persona 2"
         ],
         "z": [
          [
           590.9307159353349,
           10949943658.935785,
           -341142415.7242598
          ],
          [
           429.67724867724866,
           7705958160.975605,
           755028043.2857727
          ]
         ]
        }
       ],
       "layout": {}
      }
     },
     "metadata": {},
     "output_type": "display_data"
    },
    {
     "name": "stderr",
     "output_type": "stream",
     "text": [
      "C:\\Users\\rachh\\Anaconda\\lib\\site-packages\\IPython\\core\\display.py:689: UserWarning:\n",
      "\n",
      "Consider using IPython.display.IFrame instead\n",
      "\n"
     ]
    },
    {
     "data": {
      "text/html": [
       "<iframe id=\"igraph\" scrolling=\"no\" style=\"border:none;\" seamless=\"seamless\" src=\"https://plot.ly/~rachel_harvill/4.embed\" height=\"525px\" width=\"100%\"></iframe>"
      ],
      "text/plain": [
       "<plotly.tools.PlotlyDisplay object>"
      ]
     },
     "execution_count": 33,
     "metadata": {},
     "output_type": "execute_result"
    }
   ],
   "source": [
    "data = [go.Heatmap( z=sums.values.tolist(), \n",
    "                   y=['Persona 1', 'Persona 2'],\n",
    "                   x=['First Attribute', 'Second Attribute', 'Third Attribute'\n",
    "                     ],\n",
    "                   colorscale='Viridis')]\n",
    "plotly.offline.iplot(data, filename='pandas-heatmap')\n",
    "py.iplot(data, filename = 'pandas-heatmap')"
   ]
  },
  {
   "cell_type": "code",
   "execution_count": 34,
   "metadata": {},
   "outputs": [
    {
     "data": {
      "application/vnd.plotly.v1+json": {
       "config": {
        "linkText": "Export to plot.ly",
        "plotlyServerURL": "https://plot.ly",
        "showLink": false
       },
       "data": [
        {
         "colorscale": "Viridis",
         "type": "heatmap",
         "uid": "37a160da-f4f4-464e-9136-1e2a7f299240",
         "x": [
          "First Attribute",
          "Second Attribute",
          "Third Attribute",
          "Fourth Attribute"
         ],
         "y": [
          "Persona 1",
          "Persona 2"
         ],
         "z": [
          [
           5423.126755738266,
           4961488286.728711,
           4963055149.984988,
           0.06808557088923707
          ],
          [
           4405.2825564632385,
           6761554110.6801815,
           6763037431.778448,
           0.07555801470574708
          ]
         ]
        }
       ],
       "layout": {}
      }
     },
     "metadata": {},
     "output_type": "display_data"
    },
    {
     "name": "stderr",
     "output_type": "stream",
     "text": [
      "C:\\Users\\rachh\\Anaconda\\lib\\site-packages\\IPython\\core\\display.py:689: UserWarning:\n",
      "\n",
      "Consider using IPython.display.IFrame instead\n",
      "\n"
     ]
    },
    {
     "data": {
      "text/html": [
       "<iframe id=\"igraph\" scrolling=\"no\" style=\"border:none;\" seamless=\"seamless\" src=\"https://plot.ly/~rachel_harvill/4.embed\" height=\"525px\" width=\"100%\"></iframe>"
      ],
      "text/plain": [
       "<plotly.tools.PlotlyDisplay object>"
      ]
     },
     "execution_count": 34,
     "metadata": {},
     "output_type": "execute_result"
    }
   ],
   "source": [
    "data = [go.Heatmap( z=sumsNMF.values.tolist(), \n",
    "                   y=['Persona 1', 'Persona 2'],\n",
    "                   x=['First Attribute', 'Second Attribute', 'Third Attribute'\n",
    "                     ,'Fourth Attribute'],\n",
    "                   colorscale='Viridis')]\n",
    "plotly.offline.iplot(data, filename='pandas-heatmap')\n",
    "py.iplot(data, filename = 'pandas-heatmap')"
   ]
  },
  {
   "cell_type": "markdown",
   "metadata": {},
   "source": [
    "### Arbitrary Clustering Example"
   ]
  },
  {
   "cell_type": "code",
   "execution_count": 3,
   "metadata": {},
   "outputs": [],
   "source": [
    "from sklearn.cluster import KMeans\n",
    "\n",
    "#K means Clustering \n",
    "def doKmeans(X, nclust=2):\n",
    "    model = KMeans(nclust)\n",
    "    model.fit(X)\n",
    "    clust_labels = model.predict(X)\n",
    "    cent = model.cluster_centers_\n",
    "    return (clust_labels, cent)"
   ]
  },
  {
   "cell_type": "code",
   "execution_count": 4,
   "metadata": {},
   "outputs": [],
   "source": [
    "def k_means(svd_results,num_clusters,clust_labels,cent):\n",
    "    clust_labels, cent = doKmeans(svd_results, num_clusters)\n",
    "    kmeans = pd.DataFrame(clust_labels)\n",
    "    svd_results.insert((svd_results.shape[1]),'kmeans',kmeans)"
   ]
  },
  {
   "cell_type": "code",
   "execution_count": 5,
   "metadata": {},
   "outputs": [],
   "source": [
    "def parallel_plot(data):\n",
    "    parallel_coordinates(data, 'kmeans', colormap=plt.get_cmap(\"Set2\"))\n",
    "    plt.show()"
   ]
  },
  {
   "cell_type": "markdown",
   "metadata": {},
   "source": [
    "Apply clustering and visualization methods to lab data"
   ]
  },
  {
   "cell_type": "code",
   "execution_count": 6,
   "metadata": {},
   "outputs": [],
   "source": [
    "svdLab_results = pd.read_csv(\"C:/Users/rachh/OneDrive/Documents/Senior Thesis/svdLab_results.csv\")"
   ]
  },
  {
   "cell_type": "code",
   "execution_count": 7,
   "metadata": {},
   "outputs": [],
   "source": [
    "labClust_labels, lab_cent = doKmeans(svdLab_results)"
   ]
  },
  {
   "cell_type": "code",
   "execution_count": 8,
   "metadata": {},
   "outputs": [],
   "source": [
    "k_means(svdLab_results, 2, labClust_labels, lab_cent)"
   ]
  },
  {
   "cell_type": "code",
   "execution_count": 23,
   "metadata": {},
   "outputs": [],
   "source": [
    "condensedSVD = svdLab_results.sample(10000)"
   ]
  },
  {
   "cell_type": "code",
   "execution_count": 18,
   "metadata": {},
   "outputs": [
    {
     "data": {
      "text/plain": [
       "(59992, 5)"
      ]
     },
     "execution_count": 18,
     "metadata": {},
     "output_type": "execute_result"
    }
   ],
   "source": [
    "svdLab_results.shape"
   ]
  },
  {
   "cell_type": "code",
   "execution_count": 24,
   "metadata": {},
   "outputs": [
    {
     "data": {
      "text/plain": [
       "<matplotlib.axes._subplots.AxesSubplot at 0x2101301b048>"
      ]
     },
     "execution_count": 24,
     "metadata": {},
     "output_type": "execute_result"
    },
    {
     "data": {
      "image/png": "[encoded data removed]",
      "text/plain": [
       "<Figure size 432x288 with 1 Axes>"
      ]
     },
     "metadata": {
      "needs_background": "light"
     },
     "output_type": "display_data"
    }
   ],
   "source": [
    "parallel_coordinates(condensedSVD, 'kmeans', colormap=plt.get_cmap(\"Set2\"))"
   ]
  },
  {
   "cell_type": "code",
   "execution_count": 17,
   "metadata": {},
   "outputs": [
    {
     "data": {
      "text/plain": [
       "array([0, 1], dtype=int64)"
      ]
     },
     "execution_count": 17,
     "metadata": {},
     "output_type": "execute_result"
    }
   ],
   "source": [
    "svdLab_results.kmeans.unique()"
   ]
  },
  {
   "cell_type": "code",
   "execution_count": 25,
   "metadata": {},
   "outputs": [],
   "source": [
    "mm_results = pd.read_csv(\"C:/Users/rachh/Downloads/master_matrix.csv\")"
   ]
  },
  {
   "cell_type": "code",
   "execution_count": 26,
   "metadata": {},
   "outputs": [],
   "source": [
    "mmClust_labels, mm_cent = doKmeans(svdLab_results)\n",
    "k_means(mm_results, 2, mmClust_labels, mm_cent)"
   ]
  },
  {
   "cell_type": "code",
   "execution_count": 27,
   "metadata": {},
   "outputs": [],
   "source": [
    "mmcondensedSVD = mm_results.sample(10000)"
   ]
  },
  {
   "cell_type": "code",
   "execution_count": 28,
   "metadata": {},
   "outputs": [
    {
     "data": {
      "text/plain": [
       "<matplotlib.axes._subplots.AxesSubplot at 0x21072eab940>"
      ]
     },
     "execution_count": 28,
     "metadata": {},
     "output_type": "execute_result"
    },
    {
     "data": {
      "image/png": "[encoded data removed]",
      "text/plain": [
       "<Figure size 432x288 with 1 Axes>"
      ]
     },
     "metadata": {
      "needs_background": "light"
     },
     "output_type": "display_data"
    }
   ],
   "source": [
    "parallel_coordinates(mmcondensedSVD, 'kmeans', colormap=plt.get_cmap(\"Set2\"))"
   ]
  },
  {
   "cell_type": "code",
   "execution_count": null,
   "metadata": {},
   "outputs": [],
   "source": []
  }
 ],
 "metadata": {
  "kernelspec": {
   "display_name": "Python 3",
   "language": "python",
   "name": "python3"
  },
  "language_info": {
   "codemirror_mode": {
    "name": "ipython",
    "version": 3
   },
   "file_extension": ".py",
   "mimetype": "text/x-python",
   "name": "python",
   "nbconvert_exporter": "python",
   "pygments_lexer": "ipython3",
   "version": "3.7.1"
  }
 },
 "nbformat": 4,
 "nbformat_minor": 2
}
