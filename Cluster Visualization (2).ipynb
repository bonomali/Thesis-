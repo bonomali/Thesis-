{
 "cells": [
  {
   "cell_type": "markdown",
   "metadata": {},
   "source": [
    "# Visualizing KMeans Clustering Results \n",
    "\n",
    "Parallel Coordinate plots are visualizations that allow for the comparison of features of several individual observations on a set of numeric variables. In the case of KMeans clustering, these plots visualize the values of each component and are colored by their respective cluster."
   ]
  },
  {
   "cell_type": "code",
   "execution_count": 1,
   "metadata": {},
   "outputs": [],
   "source": [
    "import pandas as pd\n",
    "import matplotlib.pyplot as plt\n",
    "from pandas.plotting import parallel_coordinates\n",
    "import seaborn as sns"
   ]
  },
  {
   "cell_type": "code",
   "execution_count": 2,
   "metadata": {},
   "outputs": [],
   "source": [
    "#functions from previous notebooks \n",
    "from sklearn.cluster import KMeans\n",
    "\n",
    "#K means Clustering \n",
    "def doKmeans(X, nclust=2):\n",
    "    model = KMeans(nclust)\n",
    "    model.fit(X)\n",
    "    clust_labels = model.predict(X)\n",
    "    cent = model.cluster_centers_\n",
    "    return (clust_labels, cent)"
   ]
  },
  {
   "cell_type": "code",
   "execution_count": 3,
   "metadata": {},
   "outputs": [],
   "source": [
    "def k_means(svd_results,num_clusters,clust_labels,cent):\n",
    "    clust_labels, cent = doKmeans(svd_results, num_clusters)\n",
    "    kmeans = pd.DataFrame(clust_labels)\n",
    "    svd_results.insert((svd_results.shape[1]),'kmeans',kmeans)"
   ]
  },
  {
   "cell_type": "code",
   "execution_count": 4,
   "metadata": {},
   "outputs": [],
   "source": [
    "def parallel_plot(data):\n",
    "    parallel_coordinates(data, 'kmeans', colormap=plt.get_cmap(\"Set2\"))\n",
    "    plt.show()"
   ]
  },
  {
   "cell_type": "markdown",
   "metadata": {},
   "source": [
    "### Lab KMeans Results Clusters"
   ]
  },
  {
   "cell_type": "code",
   "execution_count": 5,
   "metadata": {},
   "outputs": [],
   "source": [
    "svdLab_results = pd.read_csv(\"C:/Users/rachh/OneDrive/Documents/Senior Thesis/svdLab_results.csv\")"
   ]
  },
  {
   "cell_type": "code",
   "execution_count": 6,
   "metadata": {},
   "outputs": [],
   "source": [
    "labClust_labels, lab_cent = doKmeans(svdLab_results)\n",
    "clust_labels, cent = doKmeans(svdLab_results, 2)\n",
    "kmeans = pd.DataFrame(clust_labels)\n",
    "svdLab_results.insert((svdLab_results.shape[1]),'kmeans',kmeans)"
   ]
  },
  {
   "cell_type": "code",
   "execution_count": 7,
   "metadata": {},
   "outputs": [],
   "source": [
    "#because this function is so memory intensive, I will perform it on a sample of the data\n",
    "condensedSVD = svdLab_results.sample(10000)"
   ]
  },
  {
   "cell_type": "markdown",
   "metadata": {},
   "source": [
    "Here is a parallel coordinate plot of the entire dataset"
   ]
  },
  {
   "cell_type": "code",
   "execution_count": 8,
   "metadata": {
    "scrolled": true
   },
   "outputs": [
    {
     "data": {
      "text/plain": [
       "<matplotlib.axes._subplots.AxesSubplot at 0x23d8fd292e8>"
      ]
     },
     "execution_count": 8,
     "metadata": {},
     "output_type": "execute_result"
    },
    {
     "data": {
      "image/png": "[encoded data removed]",
      "text/plain": [
       "<Figure size 432x288 with 1 Axes>"
      ]
     },
     "metadata": {
      "needs_background": "light"
     },
     "output_type": "display_data"
    }
   ],
   "source": [
    "parallel_coordinates(condensedSVD, 'kmeans', colormap=plt.get_cmap(\"Set2\"))"
   ]
  },
  {
   "cell_type": "markdown",
   "metadata": {},
   "source": [
    "Due to the scales being so different, we will extract the second, third, and fourth columns and plot those on their own. "
   ]
  },
  {
   "cell_type": "code",
   "execution_count": 9,
   "metadata": {},
   "outputs": [
    {
     "data": {
      "text/html": [
       "<div>\n",
       "<style scoped>\n",
       "    .dataframe tbody tr th:only-of-type {\n",
       "        vertical-align: middle;\n",
       "    }\n",
       "\n",
       "    .dataframe tbody tr th {\n",
       "        vertical-align: top;\n",
       "    }\n",
       "\n",
       "    .dataframe thead th {\n",
       "        text-align: right;\n",
       "    }\n",
       "</style>\n",
       "<table border=\"1\" class=\"dataframe\">\n",
       "  <thead>\n",
       "    <tr style=\"text-align: right;\">\n",
       "      <th></th>\n",
       "      <th>Unnamed: 0</th>\n",
       "      <th>0</th>\n",
       "      <th>1</th>\n",
       "      <th>2</th>\n",
       "      <th>kmeans</th>\n",
       "    </tr>\n",
       "  </thead>\n",
       "  <tbody>\n",
       "    <tr>\n",
       "      <th>0</th>\n",
       "      <td>0</td>\n",
       "      <td>162.837777</td>\n",
       "      <td>156.232642</td>\n",
       "      <td>-82.422528</td>\n",
       "      <td>1</td>\n",
       "    </tr>\n",
       "    <tr>\n",
       "      <th>1</th>\n",
       "      <td>1</td>\n",
       "      <td>342.544976</td>\n",
       "      <td>-55.792360</td>\n",
       "      <td>-29.707457</td>\n",
       "      <td>1</td>\n",
       "    </tr>\n",
       "    <tr>\n",
       "      <th>2</th>\n",
       "      <td>2</td>\n",
       "      <td>322.907712</td>\n",
       "      <td>62.526145</td>\n",
       "      <td>-10.552495</td>\n",
       "      <td>1</td>\n",
       "    </tr>\n",
       "    <tr>\n",
       "      <th>3</th>\n",
       "      <td>3</td>\n",
       "      <td>390.224672</td>\n",
       "      <td>-27.184199</td>\n",
       "      <td>1.820830</td>\n",
       "      <td>1</td>\n",
       "    </tr>\n",
       "    <tr>\n",
       "      <th>4</th>\n",
       "      <td>4</td>\n",
       "      <td>434.144400</td>\n",
       "      <td>26.570006</td>\n",
       "      <td>13.085177</td>\n",
       "      <td>1</td>\n",
       "    </tr>\n",
       "  </tbody>\n",
       "</table>\n",
       "</div>"
      ],
      "text/plain": [
       "   Unnamed: 0           0           1          2  kmeans\n",
       "0           0  162.837777  156.232642 -82.422528       1\n",
       "1           1  342.544976  -55.792360 -29.707457       1\n",
       "2           2  322.907712   62.526145 -10.552495       1\n",
       "3           3  390.224672  -27.184199   1.820830       1\n",
       "4           4  434.144400   26.570006  13.085177       1"
      ]
     },
     "execution_count": 9,
     "metadata": {},
     "output_type": "execute_result"
    }
   ],
   "source": [
    "svdLab_results.head()"
   ]
  },
  {
   "cell_type": "code",
   "execution_count": 10,
   "metadata": {},
   "outputs": [],
   "source": [
    "svdLab_results2 = svdLab_results[['0','1','2','kmeans']]\n",
    "condensedLabSVD2 = svdLab_results2.sample(10000)"
   ]
  },
  {
   "cell_type": "code",
   "execution_count": 11,
   "metadata": {},
   "outputs": [
    {
     "data": {
      "text/plain": [
       "<matplotlib.axes._subplots.AxesSubplot at 0x23d9a637c18>"
      ]
     },
     "execution_count": 11,
     "metadata": {},
     "output_type": "execute_result"
    },
    {
     "data": {
      "image/png": "[encoded data removed]",
      "text/plain": [
       "<Figure size 432x288 with 1 Axes>"
      ]
     },
     "metadata": {
      "needs_background": "light"
     },
     "output_type": "display_data"
    }
   ],
   "source": [
    "parallel_coordinates(condensedLabSVD2, 'kmeans', colormap=plt.get_cmap(\"Set2\"))"
   ]
  },
  {
   "cell_type": "markdown",
   "metadata": {},
   "source": [
    "## Master Matrix SVD Results Clusters"
   ]
  },
  {
   "cell_type": "code",
   "execution_count": 12,
   "metadata": {},
   "outputs": [],
   "source": [
    "mm_results = pd.read_csv(\"C:/Users/rachh/Downloads/master_matrix.csv\")"
   ]
  },
  {
   "cell_type": "code",
   "execution_count": 13,
   "metadata": {},
   "outputs": [],
   "source": [
    "mmClust_labels, mm_cent = doKmeans(mm_results)\n",
    "clust_labels, cent = doKmeans(mm_results, 2)\n",
    "kmeans = pd.DataFrame(clust_labels)\n",
    "mm_results.insert((mm_results.shape[1]),'kmeans',kmeans)"
   ]
  },
  {
   "cell_type": "code",
   "execution_count": 14,
   "metadata": {},
   "outputs": [],
   "source": [
    "#because this function is so memory intensive, I will perform it on a sample of the data\n",
    "mmCondensedSVD = mm_results.sample(10000)"
   ]
  },
  {
   "cell_type": "markdown",
   "metadata": {},
   "source": [
    "Here is a parallel coordinate plot of the entire dataset"
   ]
  },
  {
   "cell_type": "code",
   "execution_count": 15,
   "metadata": {
    "scrolled": true
   },
   "outputs": [
    {
     "data": {
      "text/plain": [
       "<matplotlib.axes._subplots.AxesSubplot at 0x23da2614240>"
      ]
     },
     "execution_count": 15,
     "metadata": {},
     "output_type": "execute_result"
    },
    {
     "data": {
      "image/png": "[encoded data removed]",
      "text/plain": [
       "<Figure size 432x288 with 1 Axes>"
      ]
     },
     "metadata": {
      "needs_background": "light"
     },
     "output_type": "display_data"
    }
   ],
   "source": [
    "parallel_coordinates(mmCondensedSVD, 'kmeans', colormap=plt.get_cmap(\"Set2\"))"
   ]
  },
  {
   "cell_type": "markdown",
   "metadata": {},
   "source": [
    "## Maternity Clustering Results Visualization\n",
    "\n",
    "We will visualize the results of the kmeans clustering algorithms performed on our condensed approximate maternity dataframe. "
   ]
  },
  {
   "cell_type": "code",
   "execution_count": 16,
   "metadata": {
    "scrolled": true
   },
   "outputs": [],
   "source": [
    "matSVD_data = pd.read_csv(\"C:/Users/rachh/Downloads/maternitySVD.csv\")"
   ]
  },
  {
   "cell_type": "code",
   "execution_count": 17,
   "metadata": {},
   "outputs": [],
   "source": [
    "matSVD_data.columns = ['First Attribute', 'Second Attribute', 'Third Attribute','kmeans']"
   ]
  },
  {
   "cell_type": "code",
   "execution_count": 18,
   "metadata": {},
   "outputs": [],
   "source": [
    "condensed_matSVD_data = matSVD_data.head(10000)"
   ]
  },
  {
   "cell_type": "code",
   "execution_count": 19,
   "metadata": {
    "scrolled": true
   },
   "outputs": [
    {
     "data": {
      "image/png": "[encoded data removed]",
      "text/plain": [
       "<Figure size 432x288 with 1 Axes>"
      ]
     },
     "metadata": {
      "needs_background": "light"
     },
     "output_type": "display_data"
    }
   ],
   "source": [
    "# Make the plot for SVD data \n",
    "parallel_coordinates(condensed_matSVD_data, 'kmeans', colormap=plt.get_cmap(\"Set2\"))\n",
    "plt.show()"
   ]
  },
  {
   "cell_type": "markdown",
   "metadata": {},
   "source": [
    "## Interactive Parallel Coordinate Plots w/ Plotly API"
   ]
  },
  {
   "cell_type": "code",
   "execution_count": 20,
   "metadata": {},
   "outputs": [],
   "source": [
    "import plotly\n",
    "import plotly.plotly as py\n",
    "import plotly.graph_objs as go "
   ]
  },
  {
   "cell_type": "code",
   "execution_count": 21,
   "metadata": {},
   "outputs": [],
   "source": [
    "plotly.tools.set_credentials_file(username='rachel_harvill', api_key='QGLYwKR1rHxWXKe0fiGu')"
   ]
  },
  {
   "cell_type": "code",
   "execution_count": 25,
   "metadata": {},
   "outputs": [
    {
     "name": "stdout",
     "output_type": "stream",
     "text": [
      "first_max=  11904879795.250679 second_max=  7382452374.28173 third_max 2578.0\n"
     ]
    },
    {
     "name": "stderr",
     "output_type": "stream",
     "text": [
      "C:\\Users\\rachh\\Anaconda\\lib\\site-packages\\IPython\\core\\display.py:689: UserWarning:\n",
      "\n",
      "Consider using IPython.display.IFrame instead\n",
      "\n"
     ]
    },
    {
     "data": {
      "text/html": [
       "<iframe id=\"igraph\" scrolling=\"no\" style=\"border:none;\" seamless=\"seamless\" src=\"https://plot.ly/~rachel_harvill/2.embed\" height=\"525px\" width=\"100%\"></iframe>"
      ],
      "text/plain": [
       "<plotly.tools.PlotlyDisplay object>"
      ]
     },
     "execution_count": 25,
     "metadata": {},
     "output_type": "execute_result"
    }
   ],
   "source": [
    "df = condensed_matSVD_data\n",
    "first_max = df.loc[df['Second Attribute'].idxmax()]['Second Attribute']\n",
    "second_max = df.loc[df['Third Attribute'].idxmax()]['Third Attribute']\n",
    "third_max = df.loc[df['Third Attribute'].idxmax()]['First Attribute']\n",
    "print('first_max= ', first_max, 'second_max= ', second_max, 'third_max', third_max)\n",
    "data = [\n",
    "    go.Parcoords(\n",
    "        line = dict(color = df['kmeans'],colorscale = 'Jet',\n",
    "                   showscale = True,\n",
    "                   reversescale = True,\n",
    "                   cmin = 0,\n",
    "                   cmax = 1),\n",
    "        dimensions = list([\n",
    "            dict(range = [0,first_max],\n",
    "                constraintrange = [4,8],\n",
    "                label = 'Second Attribute', values = df['Second Attribute']),\n",
    "            dict(range = [0,second_max],\n",
    "                label = 'Third Attribute', values = df['Third Attribute']),\n",
    "            dict(range = [0,third_max],\n",
    "                label = 'First Attribute', values = df['First Attribute'])\n",
    "        ])\n",
    "    )\n",
    "]\n",
    "\n",
    "layout = go.Layout(\n",
    "    plot_bgcolor = '#ffffff',\n",
    "    paper_bgcolor = '#E5E5E5'\n",
    ")\n",
    "\n",
    "fig = go.Figure(data = data, layout = layout)\n",
    "py.iplot(fig, filename = 'parcoords-advanced')"
   ]
  },
  {
   "cell_type": "markdown",
   "metadata": {},
   "source": [
    "### Aggregated Heatmap\n",
    "\n",
    "1. Split data into groups based on k-means cluster value (AKA which group they were grouped into)\n",
    "2. Apply aggregation function (sum or average, we will use both to see difference in results) to all dimensions within that group\n",
    "3. Plot aggregated values in heatmap"
   ]
  },
  {
   "cell_type": "code",
   "execution_count": 28,
   "metadata": {},
   "outputs": [],
   "source": [
    "def group_data(df):\n",
    "    grouped_data = df.groupby('kmeans')\n",
    "    return grouped_data.mean()"
   ]
  },
  {
   "cell_type": "code",
   "execution_count": 29,
   "metadata": {},
   "outputs": [
    {
     "data": {
      "text/html": [
       "<div>\n",
       "<style scoped>\n",
       "    .dataframe tbody tr th:only-of-type {\n",
       "        vertical-align: middle;\n",
       "    }\n",
       "\n",
       "    .dataframe tbody tr th {\n",
       "        vertical-align: top;\n",
       "    }\n",
       "\n",
       "    .dataframe thead th {\n",
       "        text-align: right;\n",
       "    }\n",
       "</style>\n",
       "<table border=\"1\" class=\"dataframe\">\n",
       "  <thead>\n",
       "    <tr style=\"text-align: right;\">\n",
       "      <th></th>\n",
       "      <th>First Attribute</th>\n",
       "      <th>Second Attribute</th>\n",
       "      <th>Third Attribute</th>\n",
       "      <th>kmeans</th>\n",
       "    </tr>\n",
       "  </thead>\n",
       "  <tbody>\n",
       "    <tr>\n",
       "      <th>0</th>\n",
       "      <td>0</td>\n",
       "      <td>8.432911e+09</td>\n",
       "      <td>8.128278e+08</td>\n",
       "      <td>1</td>\n",
       "    </tr>\n",
       "    <tr>\n",
       "      <th>1</th>\n",
       "      <td>1</td>\n",
       "      <td>8.432911e+09</td>\n",
       "      <td>8.128278e+08</td>\n",
       "      <td>1</td>\n",
       "    </tr>\n",
       "    <tr>\n",
       "      <th>2</th>\n",
       "      <td>2</td>\n",
       "      <td>8.432911e+09</td>\n",
       "      <td>8.128278e+08</td>\n",
       "      <td>1</td>\n",
       "    </tr>\n",
       "    <tr>\n",
       "      <th>3</th>\n",
       "      <td>3</td>\n",
       "      <td>8.432911e+09</td>\n",
       "      <td>8.128278e+08</td>\n",
       "      <td>1</td>\n",
       "    </tr>\n",
       "    <tr>\n",
       "      <th>4</th>\n",
       "      <td>4</td>\n",
       "      <td>8.432911e+09</td>\n",
       "      <td>8.128278e+08</td>\n",
       "      <td>1</td>\n",
       "    </tr>\n",
       "  </tbody>\n",
       "</table>\n",
       "</div>"
      ],
      "text/plain": [
       "   First Attribute  Second Attribute  Third Attribute  kmeans\n",
       "0                0      8.432911e+09     8.128278e+08       1\n",
       "1                1      8.432911e+09     8.128278e+08       1\n",
       "2                2      8.432911e+09     8.128278e+08       1\n",
       "3                3      8.432911e+09     8.128278e+08       1\n",
       "4                4      8.432911e+09     8.128278e+08       1"
      ]
     },
     "execution_count": 29,
     "metadata": {},
     "output_type": "execute_result"
    }
   ],
   "source": [
    "condensed_matSVD_data.head()"
   ]
  },
  {
   "cell_type": "code",
   "execution_count": 30,
   "metadata": {},
   "outputs": [],
   "source": [
    "#split data into clustered groups\n",
    "groupedSVD_data = condensed_matSVD_data.groupby('kmeans')\n",
    "#compute the sum for every column in the group \n",
    "sumsSVD = groupedSVD_data.mean()"
   ]
  },
  {
   "cell_type": "code",
   "execution_count": 31,
   "metadata": {},
   "outputs": [
    {
     "data": {
      "text/html": [
       "<div>\n",
       "<style scoped>\n",
       "    .dataframe tbody tr th:only-of-type {\n",
       "        vertical-align: middle;\n",
       "    }\n",
       "\n",
       "    .dataframe tbody tr th {\n",
       "        vertical-align: top;\n",
       "    }\n",
       "\n",
       "    .dataframe thead th {\n",
       "        text-align: right;\n",
       "    }\n",
       "</style>\n",
       "<table border=\"1\" class=\"dataframe\">\n",
       "  <thead>\n",
       "    <tr style=\"text-align: right;\">\n",
       "      <th></th>\n",
       "      <th>First Attribute</th>\n",
       "      <th>Second Attribute</th>\n",
       "      <th>Third Attribute</th>\n",
       "    </tr>\n",
       "    <tr>\n",
       "      <th>kmeans</th>\n",
       "      <th></th>\n",
       "      <th></th>\n",
       "      <th></th>\n",
       "    </tr>\n",
       "  </thead>\n",
       "  <tbody>\n",
       "    <tr>\n",
       "      <th>0</th>\n",
       "      <td>4542.451350</td>\n",
       "      <td>1.033761e+10</td>\n",
       "      <td>-2.048955e+08</td>\n",
       "    </tr>\n",
       "    <tr>\n",
       "      <th>1</th>\n",
       "      <td>5562.421558</td>\n",
       "      <td>7.044432e+09</td>\n",
       "      <td>9.976636e+08</td>\n",
       "    </tr>\n",
       "  </tbody>\n",
       "</table>\n",
       "</div>"
      ],
      "text/plain": [
       "        First Attribute  Second Attribute  Third Attribute\n",
       "kmeans                                                    \n",
       "0           4542.451350      1.033761e+10    -2.048955e+08\n",
       "1           5562.421558      7.044432e+09     9.976636e+08"
      ]
     },
     "execution_count": 31,
     "metadata": {},
     "output_type": "execute_result"
    }
   ],
   "source": [
    "sumsSVD"
   ]
  },
  {
   "cell_type": "code",
   "execution_count": 32,
   "metadata": {},
   "outputs": [
    {
     "data": {
      "application/vnd.plotly.v1+json": {
       "config": {
        "linkText": "Export to plot.ly",
        "plotlyServerURL": "https://plot.ly",
        "showLink": false
       },
       "data": [
        {
         "colorscale": "Viridis",
         "type": "heatmap",
         "uid": "4a678637-b6c6-4537-85fa-5d51cfd08ab5",
         "x": [
          "First Attribute",
          "Second Attribute",
          "Third Attribute"
         ],
         "y": [
          "Persona 1",
          "Persona 2"
         ],
         "z": [
          [
           4542.451349882225,
           10337611798.005896,
           -204895478.1989981
          ],
          [
           5562.421557688016,
           7044432149.269711,
           997663628.8362222
          ]
         ]
        }
       ],
       "layout": {}
      }
     },
     "metadata": {},
     "output_type": "display_data"
    },
    {
     "name": "stderr",
     "output_type": "stream",
     "text": [
      "C:\\Users\\rachh\\Anaconda\\lib\\site-packages\\IPython\\core\\display.py:689: UserWarning:\n",
      "\n",
      "Consider using IPython.display.IFrame instead\n",
      "\n"
     ]
    },
    {
     "data": {
      "text/html": [
       "<iframe id=\"igraph\" scrolling=\"no\" style=\"border:none;\" seamless=\"seamless\" src=\"https://plot.ly/~rachel_harvill/4.embed\" height=\"525px\" width=\"100%\"></iframe>"
      ],
      "text/plain": [
       "<plotly.tools.PlotlyDisplay object>"
      ]
     },
     "execution_count": 32,
     "metadata": {},
     "output_type": "execute_result"
    }
   ],
   "source": [
    "data = [go.Heatmap( z=sumsSVD.values.tolist(), \n",
    "                   y=['Persona 1', 'Persona 2'],\n",
    "                   x=['First Attribute', 'Second Attribute', 'Third Attribute'\n",
    "                     ],\n",
    "                   colorscale='Viridis')]\n",
    "plotly.offline.iplot(data, filename='pandas-heatmap')\n",
    "py.iplot(data, filename = 'pandas-heatmap')"
   ]
  },
  {
   "cell_type": "code",
   "execution_count": 33,
   "metadata": {},
   "outputs": [
    {
     "data": {
      "application/vnd.plotly.v1+json": {
       "config": {
        "linkText": "Export to plot.ly",
        "plotlyServerURL": "https://plot.ly",
        "showLink": false
       },
       "data": [
        {
         "colorscale": "Viridis",
         "type": "heatmap",
         "uid": "fa6610a6-1fab-47cd-b95e-d5cdb9f2606b",
         "x": [
          "First Attribute",
          "Second Attribute",
          "Third Attribute",
          "Fourth Attribute"
         ],
         "y": [
          "Persona 1",
          "Persona 2"
         ],
         "z": [
          [
           44982,
           340.0688239728671,
           8.050828041311638,
           -15.326347179213514
          ],
          [
           14986,
           340.5394870768157,
           15.892165686587406,
           -14.705842818679796
          ]
         ]
        }
       ],
       "layout": {}
      }
     },
     "metadata": {},
     "output_type": "display_data"
    },
    {
     "name": "stderr",
     "output_type": "stream",
     "text": [
      "C:\\Users\\rachh\\Anaconda\\lib\\site-packages\\IPython\\core\\display.py:689: UserWarning:\n",
      "\n",
      "Consider using IPython.display.IFrame instead\n",
      "\n"
     ]
    },
    {
     "data": {
      "text/html": [
       "<iframe id=\"igraph\" scrolling=\"no\" style=\"border:none;\" seamless=\"seamless\" src=\"https://plot.ly/~rachel_harvill/4.embed\" height=\"525px\" width=\"100%\"></iframe>"
      ],
      "text/plain": [
       "<plotly.tools.PlotlyDisplay object>"
      ]
     },
     "execution_count": 33,
     "metadata": {},
     "output_type": "execute_result"
    }
   ],
   "source": [
    "labSVDSum = group_data(svdLab_results) \n",
    "\n",
    "\n",
    "data = [go.Heatmap( z=labSVDSum.values.tolist(), \n",
    "                   y=['Persona 1', 'Persona 2'],\n",
    "                   x=['First Attribute', 'Second Attribute', 'Third Attribute', 'Fourth Attribute'\n",
    "                     ],\n",
    "                   colorscale='Viridis')]\n",
    "plotly.offline.iplot(data, filename='pandas-heatmap')\n",
    "py.iplot(data, filename = 'pandas-heatmap')"
   ]
  }
 ],
 "metadata": {
  "kernelspec": {
   "display_name": "Python 3",
   "language": "python",
   "name": "python3"
  },
  "language_info": {
   "codemirror_mode": {
    "name": "ipython",
    "version": 3
   },
   "file_extension": ".py",
   "mimetype": "text/x-python",
   "name": "python",
   "nbconvert_exporter": "python",
   "pygments_lexer": "ipython3",
   "version": "3.7.1"
  }
 },
 "nbformat": 4,
 "nbformat_minor": 2
}
