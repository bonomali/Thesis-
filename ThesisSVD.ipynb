{
 "cells": [
  {
   "cell_type": "code",
   "execution_count": 1,
   "metadata": {
    "collapsed": true
   },
   "outputs": [],
   "source": [
    "import pandas as pd\n",
    "import numpy as np"
   ]
  },
  {
   "cell_type": "code",
   "execution_count": 2,
   "metadata": {
    "collapsed": true
   },
   "outputs": [],
   "source": [
    "from numpy import linalg as LA "
   ]
  },
  {
   "cell_type": "code",
   "execution_count": 156,
   "metadata": {
    "collapsed": true
   },
   "outputs": [],
   "source": [
    "def computeSVD(A):\n",
    "    #1. Compute matrix tranpose\n",
    "    shapeA = A.shape\n",
    "    A_t = A.transpose()\n",
    "    A = A_t\n",
    "    print(A_t)\n",
    "    #2. Determine the eigenvalues of AA_t and A_tA\n",
    "    AA_t = A@A_t\n",
    "    A_tA = A_t@A\n",
    "    AA_tvalues, AA_tvector = LA.eig(AA_t)\n",
    "    A_tAvalues, A_tAvector = LA.eig(A_tA)\n",
    "    print('1',AA_tvector)\n",
    "    print('2',A_tAvector)\n",
    "    #square root the eigenvalues of A_tA to obtain the absolute values of A\n",
    "    s_i_values1 = []\n",
    "    s_i_values2 = []\n",
    "    for value in AA_tvalues:\n",
    "        s_i_values1.append(np.sqrt(value))\n",
    "    for value in A_tAvalues:\n",
    "        print(value)\n",
    "        s_i_values2.append(np.sqrt(value))\n",
    "    #construct diagonal matrix  S by placing the singular values along the diagonal in descending order\n",
    "    S_1 = np.zeros(shapeA)\n",
    "    S_2 = np.zeros(shapeA)\n",
    "    \n",
    "    np.fill_diagonal(S_1, s_i_values1)\n",
    "    np.fill_diagonal(S_2, s_i_values2)\n",
    "\n",
    "    #place eigenvectors of A_tA along the columns of V and compute its tranpose \n",
    "    #S_inv = np.linalg.inv(S)\n",
    "    print(A_tAvector)\n",
    "    V = np.stack(A_tAvector,axis=-1)\n",
    "    V_t = V.transpose()\n",
    "    print(V)\n",
    "    #computer U as U=AVS^-1\n",
    "    U = np.stack(AA_tvector,axis = -1)\n",
    "    U = U.transpose()\n",
    "    return U@S_2@V_t"
   ]
  },
  {
   "cell_type": "code",
   "execution_count": 66,
   "metadata": {
    "collapsed": true
   },
   "outputs": [],
   "source": [
    "A = np.array([[2,4],[1,3],[0,0],[0,0]])\n",
    "#define matrix tranpose\n",
    "A_t = A.transpose()\n",
    "#compute products\n",
    "A_tA = A_t @ A\n",
    "AA_t = A @ A_t     "
   ]
  },
  {
   "cell_type": "code",
   "execution_count": 67,
   "metadata": {},
   "outputs": [
    {
     "data": {
      "text/plain": [
       "array([[ 5, 11],\n",
       "       [11, 25]])"
      ]
     },
     "execution_count": 67,
     "metadata": {},
     "output_type": "execute_result"
    }
   ],
   "source": [
    "A_tA"
   ]
  },
  {
   "cell_type": "code",
   "execution_count": 68,
   "metadata": {
    "collapsed": true
   },
   "outputs": [],
   "source": [
    "#compute eigenvalues and vectors\n",
    "AA_tvalues, AA_tvector = LA.eig(AA_t)\n",
    "A_tAvalues, A_tAvector = LA.eig(A_tA)"
   ]
  },
  {
   "cell_type": "code",
   "execution_count": 69,
   "metadata": {},
   "outputs": [
    {
     "data": {
      "text/plain": [
       "array([29.86606875,  0.13393125,  0.        ,  0.        ])"
      ]
     },
     "execution_count": 69,
     "metadata": {},
     "output_type": "execute_result"
    }
   ],
   "source": [
    "AA_tvalues"
   ]
  },
  {
   "cell_type": "code",
   "execution_count": 70,
   "metadata": {},
   "outputs": [
    {
     "data": {
      "text/plain": [
       "array([[ 0.81741556, -0.57604844,  0.        ,  0.        ],\n",
       "       [ 0.57604844,  0.81741556,  0.        ,  0.        ],\n",
       "       [ 0.        ,  0.        ,  1.        ,  0.        ],\n",
       "       [ 0.        ,  0.        ,  0.        ,  1.        ]])"
      ]
     },
     "execution_count": 70,
     "metadata": {},
     "output_type": "execute_result"
    }
   ],
   "source": [
    "AA_tvector"
   ]
  },
  {
   "cell_type": "code",
   "execution_count": 72,
   "metadata": {},
   "outputs": [
    {
     "data": {
      "text/plain": [
       "array([ 0.13393125, 29.86606875])"
      ]
     },
     "execution_count": 72,
     "metadata": {},
     "output_type": "execute_result"
    }
   ],
   "source": [
    "A_tAvalues"
   ]
  },
  {
   "cell_type": "code",
   "execution_count": 71,
   "metadata": {},
   "outputs": [
    {
     "data": {
      "text/plain": [
       "array([[-0.9145143 , -0.40455358],\n",
       "       [ 0.40455358, -0.9145143 ]])"
      ]
     },
     "execution_count": 71,
     "metadata": {},
     "output_type": "execute_result"
    }
   ],
   "source": [
    "A_tAvector"
   ]
  },
  {
   "cell_type": "code",
   "execution_count": 57,
   "metadata": {
    "collapsed": true
   },
   "outputs": [],
   "source": [
    "matrixShape = A.shape \n",
    "S = np.zeros(matrixShape)\n",
    "sigma_i = []\n",
    "for value in A_tAvalues:\n",
    "    sigma_i.append(np.sqrt(value))\n",
    "np.fill_diagonal(S, sigma_i)"
   ]
  },
  {
   "cell_type": "code",
   "execution_count": 58,
   "metadata": {},
   "outputs": [
    {
     "data": {
      "text/plain": [
       "array([[0.36596619, 0.        ],\n",
       "       [0.        , 5.4649857 ],\n",
       "       [0.        , 0.        ],\n",
       "       [0.        , 0.        ]])"
      ]
     },
     "execution_count": 58,
     "metadata": {},
     "output_type": "execute_result"
    }
   ],
   "source": [
    "S"
   ]
  },
  {
   "cell_type": "code",
   "execution_count": 59,
   "metadata": {
    "collapsed": true
   },
   "outputs": [],
   "source": [
    "#construct v vectors and v arrays \n",
    "v1 = np.array((A_tAvector[0][0],A_tAvector[1][0]))\n",
    "v2 = np.array((A_tAvector[0][1],A_tAvector[1][1]))\n",
    "V = np.column_stack((v1,v2))"
   ]
  },
  {
   "cell_type": "code",
   "execution_count": 60,
   "metadata": {
    "collapsed": true
   },
   "outputs": [],
   "source": [
    "sigma1u1 = A @ v1\n",
    "sigma2u2 = A @ v2"
   ]
  },
  {
   "cell_type": "code",
   "execution_count": 61,
   "metadata": {
    "collapsed": true
   },
   "outputs": [],
   "source": [
    "u1 = sigma1u1/sigma_i[0]\n",
    "u2 = sigma2u2/sigma_i[1]"
   ]
  },
  {
   "cell_type": "code",
   "execution_count": 62,
   "metadata": {
    "collapsed": true
   },
   "outputs": [],
   "source": [
    "U = np.column_stack((u1,u2))"
   ]
  },
  {
   "cell_type": "code",
   "execution_count": 63,
   "metadata": {
    "scrolled": true
   },
   "outputs": [
    {
     "data": {
      "text/plain": [
       "array([[-0.57604844, -0.81741556],\n",
       "       [ 0.81741556, -0.57604844],\n",
       "       [ 0.        ,  0.        ],\n",
       "       [ 0.        ,  0.        ]])"
      ]
     },
     "execution_count": 63,
     "metadata": {},
     "output_type": "execute_result"
    }
   ],
   "source": [
    "U"
   ]
  },
  {
   "cell_type": "code",
   "execution_count": 64,
   "metadata": {
    "collapsed": true
   },
   "outputs": [],
   "source": [
    "V_t = V.transpose()"
   ]
  },
  {
   "cell_type": "code",
   "execution_count": 65,
   "metadata": {},
   "outputs": [
    {
     "ename": "ValueError",
     "evalue": "shapes (4,2) and (4,2) not aligned: 2 (dim 1) != 4 (dim 0)",
     "output_type": "error",
     "traceback": [
      "\u001b[1;31m---------------------------------------------------------------------------\u001b[0m",
      "\u001b[1;31mValueError\u001b[0m                                Traceback (most recent call last)",
      "\u001b[1;32m<ipython-input-65-195adaa94647>\u001b[0m in \u001b[0;36m<module>\u001b[1;34m()\u001b[0m\n\u001b[1;32m----> 1\u001b[1;33m \u001b[0mU\u001b[0m \u001b[1;33m@\u001b[0m \u001b[0mS\u001b[0m \u001b[1;33m@\u001b[0m \u001b[0mV_t\u001b[0m\u001b[1;33m\u001b[0m\u001b[0m\n\u001b[0m",
      "\u001b[1;31mValueError\u001b[0m: shapes (4,2) and (4,2) not aligned: 2 (dim 1) != 4 (dim 0)"
     ]
    }
   ],
   "source": [
    "U @ S @ V_t"
   ]
  },
  {
   "cell_type": "code",
   "execution_count": 52,
   "metadata": {
    "collapsed": true
   },
   "outputs": [],
   "source": [
    "def computeSVD(A):\n",
    "#define matrix tranpose\n",
    "    A_t = A.transpose()\n",
    "#compute products\n",
    "    A_tA = A_t @ A\n",
    "    AA_t = A @ A_t     \n",
    "#compute eigenvalues and vectors\n",
    "    AA_tvalues, AA_tvector = LA.eig(AA_t)\n",
    "    A_tAvalues, A_tAvector = LA.eig(A_tA)\n",
    "#define and fill S (diagonal) matrix \n",
    "    matrixShape = A.shape \n",
    "    S = np.zeros(matrixShape)\n",
    "    sigma_i = []\n",
    "    for value in A_tAvalues:\n",
    "        sigma_i.append(np.sqrt(value))\n",
    "    sigma_i.sort(reverse = True)\n",
    "    np.fill_diagonal(S, sigma_i)    \n",
    "    print('S= ', S)\n",
    "#construct v vectors and v arrays\n",
    "    v_i = []\n",
    "    for i in range(len(A_tAvector)):\n",
    "        v_i.append(A_tAvector[i])\n",
    "    V = np.column_stack((A_tAvector)) \n",
    "    V_t = V.transpose()\n",
    "    print('V= ', V)\n",
    "    print('V_t=  ',V_t)\n",
    "    sigma_iu_i = []\n",
    "    for value in v_i:\n",
    "        sigma_iu_i.append(A @ value)\n",
    "    u_i = []\n",
    "    for i in range(len(sigma_iu_i)):\n",
    "        ui = sigma_iu_i[i]/sigma_i[i]\n",
    "        u_i.append(ui)\n",
    "    U = np.column_stack((u_i))\n",
    "    print('U= ',U)\n",
    "    print(U.shape)\n",
    "    print(S.shape)\n",
    "    return U @ S @ V_t"
   ]
  },
  {
   "cell_type": "code",
   "execution_count": 54,
   "metadata": {
    "collapsed": true
   },
   "outputs": [],
   "source": [
    "A = np.array([[2,4,3],[1,3,3],[0,5,6]])"
   ]
  },
  {
   "cell_type": "code",
   "execution_count": 55,
   "metadata": {},
   "outputs": [
    {
     "name": "stdout",
     "output_type": "stream",
     "text": [
      "S=  [[10.24844096  0.          0.        ]\n",
      " [ 0.          1.98689506  0.        ]\n",
      " [ 0.          0.          0.14732909]]\n",
      "V=  [[-0.13972804 -0.68794948 -0.71218087]\n",
      " [-0.86360659 -0.26719423  0.42754054]\n",
      " [ 0.48441691 -0.67478349  0.55678317]]\n",
      "V_t=   [[-0.13972804 -0.86360659  0.48441691]\n",
      " [-0.68794948 -0.26719423 -0.67478349]\n",
      " [-0.71218087  0.42754054  0.55678317]]\n",
      "U=  [[-0.2225345  -2.24925132 13.27741767]\n",
      " [-0.12463331 -1.76852955 15.20942121]\n",
      " [-0.13773134 -2.71009385 37.18479181]]\n",
      "(3, 3)\n",
      "(3, 3)\n"
     ]
    },
    {
     "data": {
      "text/plain": [
       "array([[2.00000000e+00, 4.00000000e+00, 3.00000000e+00],\n",
       "       [1.00000000e+00, 3.00000000e+00, 3.00000000e+00],\n",
       "       [5.17796884e-16, 5.00000000e+00, 6.00000000e+00]])"
      ]
     },
     "execution_count": 55,
     "metadata": {},
     "output_type": "execute_result"
    }
   ],
   "source": [
    "computeSVD(A)"
   ]
  },
  {
   "cell_type": "markdown",
   "metadata": {},
   "source": [
    "# Reduced SVD \n",
    "\n",
    "This is the case where rank(A) = numCols(U) = numCols(V)"
   ]
  },
  {
   "cell_type": "code",
   "execution_count": 84,
   "metadata": {
    "collapsed": true
   },
   "outputs": [],
   "source": [
    "HA_tAvector = LA.eig(A_tA)\n",
    "    \n",
    "#define and fill S (diagonal) matrix \n",
    "    matrixShape = A.shape \n",
    "   # S = np.zeros((rank,rank))\n",
    "    sigma_i = []\n",
    "    for value in AA_tvalues:\n",
    "        print('value i: ', value)\n",
    "        sigma_i.append(np.sqrt(value))\n",
    "    sigma_i.sort(reverse = True)\n",
    "    print('sigma_i', sigma_i)\n",
    "    #np.fill_diagonal(S, sigma_i) \n",
    "    S = np.diag(sigma_i)\n",
    "    print('S= ', S)\n",
    "#construct v vectors and v arrays\n",
    "    v_i = []\n",
    "    print('A_tAvector = ', A_tAvector)\n",
    "    for i in range(2):\n",
    "        v_i.append(A_tAvector[i])\n",
    "    print('v_i',v_i)\n",
    "    V = np.column_stack((v_i))\n",
    "    \n",
    "    V_t = V.transpose()\n",
    "    print('V= ', V)\n",
    "    print('V_t=  ',V_t)\n",
    "    sigma_iu_i = []\n",
    "    for value in v_i:\n",
    "        sigma_iu_i.append(A @ value)\n",
    "    u_i = []\n",
    "    for i in range(len(sigma_i)):\n",
    "        ui = sigma_iu_i[i]/sigma_i[i]\n",
    "        u_i.append(ui)\n",
    "    U = np.column_stack((u_i))\n",
    "    print('U= ',U)\n",
    "    print(U.shape)\n",
    "    print(S.shape)\n",
    "    return U @ S @ V_t"
   ]
  },
  {
   "cell_type": "code",
   "execution_count": 85,
   "metadata": {
    "scrolled": true
   },
   "outputs": [
    {
     "name": "stdout",
     "output_type": "stream",
     "text": [
      "[[1 2 3 4]\n",
      " [0 1 6 5]]\n",
      "rank=  2\n",
      "value i:  2.91868154292397\n",
      "value i:  89.08131845707604\n",
      "sigma_i [9.438290017639638, 1.7084149211839523]\n",
      "S=  [[9.43829002 0.        ]\n",
      " [0.         1.70841492]]\n",
      "A_tAvector =  [[-0.0593994   0.48469913 -0.3290523   0.07131028]\n",
      " [-0.20653369  0.64124098 -0.45279249 -0.66771595]\n",
      " [-0.70460749 -0.51484634 -0.48466849 -0.40552715]\n",
      " [-0.67627201  0.29801008  0.67216069  0.62017577]]\n",
      "v_i [array([-0.0593994 ,  0.48469913, -0.3290523 ,  0.07131028]), array([-0.20653369,  0.64124098, -0.45279249, -0.66771595])]\n",
      "V=  [[-0.0593994  -0.20653369]\n",
      " [ 0.48469913  0.64124098]\n",
      " [-0.3290523  -0.45279249]\n",
      " [ 0.07131028 -0.66771595]]\n",
      "V_t=   [[-0.0593994   0.48469913 -0.3290523   0.07131028]\n",
      " [-0.20653369  0.64124098 -0.45279249 -0.66771595]]\n",
      "U=  [[ 0.02204669 -1.72867433]\n",
      " [-0.12004963 -3.16907425]]\n",
      "(2, 2)\n",
      "(2, 2)\n"
     ]
    },
    {
     "data": {
      "text/plain": [
       "array([[ 0.59759449, -1.79291481,  1.26875869,  1.98679933],\n",
       "       [ 1.18549603, -4.02093354,  2.82429806,  3.53427771]])"
      ]
     },
     "execution_count": 85,
     "metadata": {},
     "output_type": "execute_result"
    }
   ],
   "source": [
    "A = np.array([[1,2,3,4],[0,1,6,5]])\n",
    "print(A)\n",
    "computeReducedSVD(A)"
   ]
  },
  {
   "cell_type": "code",
   "execution_count": 87,
   "metadata": {
    "collapsed": true
   },
   "outputs": [],
   "source": [
    "A_t = A.transpose()\n",
    "A_tA = A_t@A\n",
    "AA_t = A@A_t\n",
    "A_tAeigs, A_tAeigvec = LA.eig(A_tA)\n",
    "AA_teigs, AA_teigvec = LA.eig(AA_t) "
   ]
  },
  {
   "cell_type": "code",
   "execution_count": 88,
   "metadata": {},
   "outputs": [
    {
     "data": {
      "text/plain": [
       "array([[-0.0593994 ,  0.48469913, -0.3290523 ,  0.07131028],\n",
       "       [-0.20653369,  0.64124098, -0.45279249, -0.66771595],\n",
       "       [-0.70460749, -0.51484634, -0.48466849, -0.40552715],\n",
       "       [-0.67627201,  0.29801008,  0.67216069,  0.62017577]])"
      ]
     },
     "execution_count": 88,
     "metadata": {},
     "output_type": "execute_result"
    }
   ],
   "source": [
    "A_tAeigvec"
   ]
  },
  {
   "cell_type": "code",
   "execution_count": 89,
   "metadata": {
    "collapsed": true
   },
   "outputs": [],
   "source": [
    "a = np.array([[1,2,3,4],[0,1,6,5]])\n",
    "U, s, V = np.linalg.svd(a)"
   ]
  },
  {
   "cell_type": "code",
   "execution_count": 90,
   "metadata": {},
   "outputs": [
    {
     "data": {
      "text/plain": [
       "array([[-0.56062881, -0.82806723],\n",
       "       [-0.82806723,  0.56062881]])"
      ]
     },
     "execution_count": 90,
     "metadata": {},
     "output_type": "execute_result"
    }
   ],
   "source": [
    "U"
   ]
  },
  {
   "cell_type": "code",
   "execution_count": 97,
   "metadata": {
    "collapsed": true
   },
   "outputs": [],
   "source": [
    "s\n",
    "S = np.diag(s)"
   ]
  },
  {
   "cell_type": "code",
   "execution_count": 96,
   "metadata": {
    "collapsed": true
   },
   "outputs": [],
   "source": [
    "V\n",
    "V_t = V.transpose()"
   ]
  },
  {
   "cell_type": "code",
   "execution_count": 98,
   "metadata": {},
   "outputs": [
    {
     "ename": "ValueError",
     "evalue": "shapes (2,2) and (4,4) not aligned: 2 (dim 1) != 4 (dim 0)",
     "output_type": "error",
     "traceback": [
      "\u001b[1;31m---------------------------------------------------------------------------\u001b[0m",
      "\u001b[1;31mValueError\u001b[0m                                Traceback (most recent call last)",
      "\u001b[1;32m<ipython-input-98-195adaa94647>\u001b[0m in \u001b[0;36m<module>\u001b[1;34m()\u001b[0m\n\u001b[1;32m----> 1\u001b[1;33m \u001b[0mU\u001b[0m \u001b[1;33m@\u001b[0m \u001b[0mS\u001b[0m \u001b[1;33m@\u001b[0m \u001b[0mV_t\u001b[0m\u001b[1;33m\u001b[0m\u001b[0m\n\u001b[0m",
      "\u001b[1;31mValueError\u001b[0m: shapes (2,2) and (4,4) not aligned: 2 (dim 1) != 4 (dim 0)"
     ]
    }
   ],
   "source": [
    "U @ S @ V_t"
   ]
  },
  {
   "cell_type": "code",
   "execution_count": 112,
   "metadata": {
    "collapsed": true
   },
   "outputs": [],
   "source": [
    "def letsTryThisAgainFolks(A):\n",
    "    A_t = A.transpose()\n",
    "    rank = np.linalg.matrix_rank(A)\n",
    "    m,n = A.shape\n",
    "    maxi = max(m,n)\n",
    "    #full rank SVD calculation\n",
    "    if (rank == maxi or rank == maxi):\n",
    "        U, s, V = np.linalg.svd(A)\n",
    "        S = np.diag(s)\n",
    "        V_t = V.transpose()\n",
    "    if (rank < maxi):\n",
    "        U, s, V = np.linalg.svd(A, full_matrices = False)\n",
    "        S = np.diag(s)\n",
    "        V_t = V.transpose()\n",
    "    print(U)\n",
    "    print(S)\n",
    "    print(V_t)\n",
    "    return U @ S @ V_t"
   ]
  },
  {
   "cell_type": "code",
   "execution_count": 113,
   "metadata": {},
   "outputs": [
    {
     "name": "stdout",
     "output_type": "stream",
     "text": [
      "[[-0.56062881 -0.82806723]\n",
      " [-0.82806723  0.56062881]]\n",
      "[[9.43829002 0.        ]\n",
      " [0.         1.70841492]]\n",
      "[[-0.0593994  -0.48469913]\n",
      " [-0.20653369 -0.64124098]\n",
      " [-0.70460749  0.51484634]\n",
      " [-0.67627201 -0.29801008]]\n"
     ]
    },
    {
     "ename": "ValueError",
     "evalue": "shapes (2,2) and (4,2) not aligned: 2 (dim 1) != 4 (dim 0)",
     "output_type": "error",
     "traceback": [
      "\u001b[1;31m---------------------------------------------------------------------------\u001b[0m",
      "\u001b[1;31mValueError\u001b[0m                                Traceback (most recent call last)",
      "\u001b[1;32m<ipython-input-113-6bd0b866ea80>\u001b[0m in \u001b[0;36m<module>\u001b[1;34m()\u001b[0m\n\u001b[1;32m----> 1\u001b[1;33m \u001b[0mletsTryThisAgainFolks\u001b[0m\u001b[1;33m(\u001b[0m\u001b[0mA\u001b[0m\u001b[1;33m)\u001b[0m\u001b[1;33m\u001b[0m\u001b[0m\n\u001b[0m",
      "\u001b[1;32m<ipython-input-112-452a9da2434a>\u001b[0m in \u001b[0;36mletsTryThisAgainFolks\u001b[1;34m(A)\u001b[0m\n\u001b[0;32m     16\u001b[0m     \u001b[0mprint\u001b[0m\u001b[1;33m(\u001b[0m\u001b[0mS\u001b[0m\u001b[1;33m)\u001b[0m\u001b[1;33m\u001b[0m\u001b[0m\n\u001b[0;32m     17\u001b[0m     \u001b[0mprint\u001b[0m\u001b[1;33m(\u001b[0m\u001b[0mV_t\u001b[0m\u001b[1;33m)\u001b[0m\u001b[1;33m\u001b[0m\u001b[0m\n\u001b[1;32m---> 18\u001b[1;33m     \u001b[1;32mreturn\u001b[0m \u001b[0mU\u001b[0m \u001b[1;33m@\u001b[0m \u001b[0mS\u001b[0m \u001b[1;33m@\u001b[0m \u001b[0mV_t\u001b[0m\u001b[1;33m\u001b[0m\u001b[0m\n\u001b[0m",
      "\u001b[1;31mValueError\u001b[0m: shapes (2,2) and (4,2) not aligned: 2 (dim 1) != 4 (dim 0)"
     ]
    }
   ],
   "source": [
    "letsTryThisAgainFolks(A)"
   ]
  },
  {
   "cell_type": "code",
   "execution_count": null,
   "metadata": {
    "collapsed": true
   },
   "outputs": [],
   "source": []
  }
 ],
 "metadata": {
  "kernelspec": {
   "display_name": "Python 3",
   "language": "python",
   "name": "python3"
  },
  "language_info": {
   "codemirror_mode": {
    "name": "ipython",
    "version": 3
   },
   "file_extension": ".py",
   "mimetype": "text/x-python",
   "name": "python",
   "nbconvert_exporter": "python",
   "pygments_lexer": "ipython3",
   "version": "3.7.2"
  }
 },
 "nbformat": 4,
 "nbformat_minor": 2
}
